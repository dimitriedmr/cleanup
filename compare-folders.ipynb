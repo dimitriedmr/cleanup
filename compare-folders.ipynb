{
 "cells": [
  {
   "cell_type": "code",
   "execution_count": 25,
   "id": "99b0fd46",
   "metadata": {},
   "outputs": [
    {
     "name": "stderr",
     "output_type": "stream",
     "text": [
      "usage: ipykernel_launcher.py [-h] [-c C [C ...]]\n",
      "ipykernel_launcher.py: error: unrecognized arguments: --f=c:\\Users\\acasa\\AppData\\Roaming\\jupyter\\runtime\\kernel-v3d185641c2563206d411130cebc50f6c230cdbbb3.json\n"
     ]
    },
    {
     "ename": "SystemExit",
     "evalue": "2",
     "output_type": "error",
     "traceback": [
      "An exception has occurred, use %tb to see the full traceback.\n",
      "\u001b[31mSystemExit\u001b[39m\u001b[31m:\u001b[39m 2\n"
     ]
    },
    {
     "name": "stderr",
     "output_type": "stream",
     "text": [
      "C:\\Users\\acasa\\AppData\\Roaming\\Python\\Python313\\site-packages\\IPython\\core\\interactiveshell.py:3707: UserWarning: To exit: use 'exit', 'quit', or Ctrl-D.\n",
      "  warn(\"To exit: use 'exit', 'quit', or Ctrl-D.\", stacklevel=1)\n"
     ]
    }
   ],
   "source": [
    "\n",
    "# TBD\n",
    "from argparse import ArgumentParser, Namespace\n",
    "\n",
    "parser = ArgumentParser(description=\"Compute MD5\")\n",
    "parser.add_argument(\"-c\", action=\"extend\", nargs=\"+\", type=str, \n",
    "                        help=\"Compare two given partitions contents using MD5\")\n",
    "args = parser.parse_args()\n",
    "print(args)"
   ]
  },
  {
   "cell_type": "code",
   "execution_count": null,
   "id": "eb30b38c",
   "metadata": {},
   "outputs": [
    {
     "name": "stdout",
     "output_type": "stream",
     "text": [
      "output000.csv\n",
      "output000-processed.csv\n"
     ]
    }
   ],
   "source": [
    "from ast import literal_eval\n",
    "from csv import DictReader, field_size_limit\n",
    "from os import listdir, remove\n",
    "from os.path import isdir, abspath, splitdrive\n",
    "from sys import maxsize\n",
    "\n",
    "field_size_limit(maxsize)\n",
    "\n",
    "keyword = \"processed\"\n",
    "in_path = \"\"\n",
    "for entry in listdir(abspath('')):\n",
    "    if not isdir(entry):\n",
    "        if \".csv\" in entry:\n",
    "            if keyword in entry:\n",
    "                remove(entry)\n",
    "            else:\n",
    "                in_path = entry\n",
    "        \n",
    "print(in_path)\n",
    "\n",
    "sep = '.'\n",
    "p,ext = in_path.split(sep)\n",
    "out_path = p + \"-\" + keyword + sep + ext\n",
    "print(out_path)\n",
    "\n",
    "with open(out_path, newline='', encoding=\"utf-8\", mode = \"w\") as out_file:\n",
    "    with open(in_path, newline='', encoding=\"utf-8\", mode = \"r\") as in_file:\n",
    "        reader = DictReader(in_file)\n",
    "        for i, row in enumerate(reader):\n",
    "            out_file.write(f\"{i} \")\n",
    "            value = literal_eval(row[\"paths\"])\n",
    "            if len(value) > 2 and \"desktop.ini\" not in value[0]:\n",
    "                s = set()\n",
    "                for entry in value:\n",
    "                    entry = splitdrive(entry)[1]\n",
    "                    s.add(entry)\n",
    "                if len(s):\n",
    "                    out_file.write(f\"\\r\\n\")\n",
    "                    for entry in s:\n",
    "                        out_file.write(f\"{entry} \\r\\n\")\n",
    "\n",
    "\n"
   ]
  }
 ],
 "metadata": {
  "kernelspec": {
   "display_name": "Python 3",
   "language": "python",
   "name": "python3"
  },
  "language_info": {
   "codemirror_mode": {
    "name": "ipython",
    "version": 3
   },
   "file_extension": ".py",
   "mimetype": "text/x-python",
   "name": "python",
   "nbconvert_exporter": "python",
   "pygments_lexer": "ipython3",
   "version": "3.13.5"
  }
 },
 "nbformat": 4,
 "nbformat_minor": 5
}
